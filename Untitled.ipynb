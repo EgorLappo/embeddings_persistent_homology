{
 "cells": [
  {
   "cell_type": "code",
   "execution_count": 62,
   "metadata": {},
   "outputs": [
    {
     "name": "stdout",
     "output_type": "stream",
     "text": [
      "Collecting ripser\n",
      "  Downloading ripser-0.4.1-cp37-cp37m-macosx_10_9_x86_64.whl (67 kB)\n",
      "\u001b[K     |████████████████████████████████| 67 kB 4.9 MB/s eta 0:00:011\n",
      "\u001b[?25hRequirement already satisfied: numpy in /Users/egor/virtualenvs/cs224project/lib/python3.7/site-packages (from ripser) (1.18.1)\n",
      "Requirement already satisfied: scikit-learn in /Users/egor/virtualenvs/cs224project/lib/python3.7/site-packages (from ripser) (0.22.1)\n",
      "Requirement already satisfied: persim in /Users/egor/virtualenvs/cs224project/lib/python3.7/site-packages (from ripser) (0.1.2)\n",
      "Collecting Cython\n",
      "  Downloading Cython-0.29.15-cp37-cp37m-macosx_10_9_x86_64.whl (1.9 MB)\n",
      "\u001b[K     |████████████████████████████████| 1.9 MB 5.0 MB/s eta 0:00:01\n",
      "\u001b[?25hRequirement already satisfied: scipy in /Users/egor/virtualenvs/cs224project/lib/python3.7/site-packages (from ripser) (1.4.1)\n",
      "Requirement already satisfied: joblib>=0.11 in /Users/egor/virtualenvs/cs224project/lib/python3.7/site-packages (from scikit-learn->ripser) (0.14.1)\n",
      "Requirement already satisfied: matplotlib in /Users/egor/virtualenvs/cs224project/lib/python3.7/site-packages (from persim->ripser) (3.1.3)\n",
      "Requirement already satisfied: hopcroftkarp in /Users/egor/virtualenvs/cs224project/lib/python3.7/site-packages (from persim->ripser) (1.2.5)\n",
      "Requirement already satisfied: pyparsing!=2.0.4,!=2.1.2,!=2.1.6,>=2.0.1 in /Users/egor/virtualenvs/cs224project/lib/python3.7/site-packages (from matplotlib->persim->ripser) (2.4.6)\n",
      "Requirement already satisfied: cycler>=0.10 in /Users/egor/virtualenvs/cs224project/lib/python3.7/site-packages (from matplotlib->persim->ripser) (0.10.0)\n",
      "Requirement already satisfied: python-dateutil>=2.1 in /Users/egor/virtualenvs/cs224project/lib/python3.7/site-packages (from matplotlib->persim->ripser) (2.8.1)\n",
      "Requirement already satisfied: kiwisolver>=1.0.1 in /Users/egor/virtualenvs/cs224project/lib/python3.7/site-packages (from matplotlib->persim->ripser) (1.1.0)\n",
      "Requirement already satisfied: six in /Users/egor/virtualenvs/cs224project/lib/python3.7/site-packages (from cycler>=0.10->matplotlib->persim->ripser) (1.14.0)\n",
      "Requirement already satisfied: setuptools in /Users/egor/virtualenvs/cs224project/lib/python3.7/site-packages (from kiwisolver>=1.0.1->matplotlib->persim->ripser) (45.2.0)\n",
      "Installing collected packages: Cython, ripser\n",
      "Successfully installed Cython-0.29.15 ripser-0.4.1\n"
     ]
    }
   ],
   "source": [
    "import matplotlib\n",
    "from matplotlib import pyplot as plt\n",
    "%matplotlib inline\n",
    "import numpy as np\n",
    "import seaborn as sns\n",
    "from pprint import pprint\n",
    "import persim"
   ]
  },
  {
   "cell_type": "code",
   "execution_count": 56,
   "metadata": {},
   "outputs": [],
   "source": [
    "def read_intervals(filename):\n",
    "    lines = []\n",
    "    with open(filename,\"r\") as f:\n",
    "        lines = [l.strip() for l in f.readlines()]\n",
    "\n",
    "    dim = 0\n",
    "    intervals = [[] for i in range(4)]\n",
    "    for line in lines:\n",
    "        if line.startswith(\"Dimension:\"):\n",
    "            dim = int(line.split(\": \")[1])\n",
    "        else:\n",
    "            bounds = line.strip(\"[]()\").split(\", \")\n",
    "            if bounds[1] == \"infinity\":\n",
    "                bounds[1] = np.inf\n",
    "                bounds[0] = float(bounds[0])\n",
    "            else:\n",
    "                bounds[0] = float(bounds[0])\n",
    "                bounds[1] = float(bounds[1])\n",
    "            intervals[dim].append(np.array(bounds))\n",
    "    return intervals"
   ]
  },
  {
   "cell_type": "code",
   "execution_count": 57,
   "metadata": {},
   "outputs": [],
   "source": [
    "filename = \"/Users/egor/Desktop/intervals_test\"\n",
    "intervals = read_intervals(filename)"
   ]
  },
  {
   "cell_type": "code",
   "execution_count": 58,
   "metadata": {},
   "outputs": [],
   "source": [
    "intervals_word2vec = read_intervals(filename)\n",
    "intervals_glove_wiki = read_intervals(filename)\n",
    "intervals_glove_cc = read_intervals(filename)\n",
    "intervals_elmo = read_intervals(filename)\n",
    "intervals_bert = read_intervals(filename)"
   ]
  },
  {
   "cell_type": "code",
   "execution_count": 75,
   "metadata": {},
   "outputs": [],
   "source": [
    "matplotlib.rcParams['figure.figsize'] = 4,5"
   ]
  },
  {
   "cell_type": "code",
   "execution_count": 67,
   "metadata": {},
   "outputs": [],
   "source": [
    "import ripser\n",
    "test_cloud = np.load(\"/Users/egor/Desktop/word_vec_homology/test_bert.npy\")"
   ]
  },
  {
   "cell_type": "code",
   "execution_count": 70,
   "metadata": {},
   "outputs": [
    {
     "name": "stderr",
     "output_type": "stream",
     "text": [
      "/Users/egor/virtualenvs/cs224project/lib/python3.7/site-packages/ripser/ripser.py:220: UserWarning: The input point cloud has more columns than rows; did you mean to transpose?\n",
      "  \"The input point cloud has more columns than rows; \"\n"
     ]
    },
    {
     "name": "stdout",
     "output_type": "stream",
     "text": [
      "CPU times: user 3min 45s, sys: 21.2 s, total: 4min 6s\n",
      "Wall time: 4min 8s\n"
     ]
    }
   ],
   "source": [
    "%%time\n",
    "dgms = ripser.ripser(test_cloud, maxdim = 3)['dgms']"
   ]
  },
  {
   "cell_type": "code",
   "execution_count": 76,
   "metadata": {},
   "outputs": [
    {
     "data": {
      "image/png": "[encoded data removed]",
      "text/plain": [
       "<Figure size 400x500 with 1 Axes>"
      ]
     },
     "metadata": {},
     "output_type": "display_data"
    }
   ],
   "source": [
    "persim.plot_diagrams(dgms, show=True)"
   ]
  },
  {
   "cell_type": "code",
   "execution_count": null,
   "metadata": {},
   "outputs": [],
   "source": []
  }
 ],
 "metadata": {
  "kernelspec": {
   "display_name": "Python 3",
   "language": "python",
   "name": "python3"
  },
  "language_info": {
   "codemirror_mode": {
    "name": "ipython",
    "version": 3
   },
   "file_extension": ".py",
   "mimetype": "text/x-python",
   "name": "python",
   "nbconvert_exporter": "python",
   "pygments_lexer": "ipython3",
   "version": "3.7.6"
  }
 },
 "nbformat": 4,
 "nbformat_minor": 4
}
